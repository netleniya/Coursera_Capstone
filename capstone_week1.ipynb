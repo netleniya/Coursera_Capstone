{
 "cells": [
  {
   "cell_type": "markdown",
   "id": "c7a6f6b0-34b4-420b-9fb2-afa66f962bb3",
   "metadata": {},
   "source": [
    "## Peer-graded Assignment: Capstone Project Notebook\n",
    "\n",
    "This Notebook will be used for the IBM DataScience Professional Certificate Capstone Project. \n",
    "It will be populated and updated accordingly"
   ]
  },
  {
   "cell_type": "code",
   "execution_count": 1,
   "id": "a12edbe6-0eb3-4b63-b08f-19cd40d583b1",
   "metadata": {},
   "outputs": [],
   "source": [
    "import pandas as pd\n",
    "import numpy as np"
   ]
  },
  {
   "cell_type": "code",
   "execution_count": 2,
   "id": "e63f0276-be9f-4d3c-a64e-ec878220b945",
   "metadata": {},
   "outputs": [
    {
     "name": "stdout",
     "output_type": "stream",
     "text": [
      "Hello Capstone Project Course\n"
     ]
    }
   ],
   "source": [
    "print(\"Hello Capstone Project Course\")"
   ]
  },
  {
   "cell_type": "code",
   "execution_count": null,
   "id": "b34f6ba1-d71f-489a-becf-48e84133ddc4",
   "metadata": {},
   "outputs": [],
   "source": []
  }
 ],
 "metadata": {
  "kernelspec": {
   "display_name": "Python 3",
   "language": "python",
   "name": "python3"
  },
  "language_info": {
   "codemirror_mode": {
    "name": "ipython",
    "version": 3
   },
   "file_extension": ".py",
   "mimetype": "text/x-python",
   "name": "python",
   "nbconvert_exporter": "python",
   "pygments_lexer": "ipython3",
   "version": "3.9.1"
  }
 },
 "nbformat": 4,
 "nbformat_minor": 5
}
